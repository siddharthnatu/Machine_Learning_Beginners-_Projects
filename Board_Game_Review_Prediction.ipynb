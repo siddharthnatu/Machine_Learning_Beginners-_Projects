{
 "cells": [
  {
   "cell_type": "code",
   "execution_count": null,
   "metadata": {},
   "outputs": [],
   "source": [
    "import numpy as np\n",
    "import pandas as pd\n",
    "import matplotlib.pyplot as plt\n",
    "import seaborn as sns\n",
    "%matplotlib inline\n",
    "\n",
    "df = pd.read_csv('/Users/siddharthnatu/Downloads/Machine-Learning-Projects-Python--master/Board Game Review Prediction/games.csv.txt')\n",
    "\n",
    "df.head()\n",
    "\n",
    "df.shape\n",
    "\n",
    "df.info()\n",
    "\n",
    "df[df.isnull().any(axis=1)]\n",
    "\n",
    "plt.figure(figsize = (12,6))\n",
    "sns.heatmap(df.corr(), annot = True)\n",
    "\n",
    "df = df.dropna()\n",
    "\n",
    "columns = df.columns.tolist()\n",
    "columns = [c for c in columns if c not in ['id', 'name', 'type', 'average_rating', 'bayes_average_rating', 'yearpublished'] ]\n",
    "\n",
    "X = df[columns]\n",
    "y = df['average_rating']\n",
    "\n",
    "from sklearn.model_selection import train_test_split\n",
    "from sklearn.linear_model import LinearRegression\n",
    "from sklearn.metrics import mean_squared_error, mean_absolute_error\n",
    "from sklearn.ensemble import RandomForestRegressor\n",
    "\n",
    "X_train, X_test, y_train, y_test = train_test_split(X, y, test_size = 0.3)\n",
    "\n",
    "model = LinearRegression()\n",
    "model.fit(X_train, y_train)\n",
    "\n",
    "predictions = model.predict(X_test)\n",
    "\n",
    "mean_squared_error(predictions, y_test)\n",
    "\n",
    "rfr = RandomForestRegressor(n_estimators = 100)\n",
    "rfr.fit(X_train, y_train)\n",
    "\n",
    "predictions = rfr.predict(X_test)\n",
    "\n",
    "mean_squared_error(predictions, y_test)\n",
    "\n",
    "from sklearn.XGBoost import XG"
   ]
  }
 ],
 "metadata": {
  "kernelspec": {
   "display_name": "Python 3",
   "language": "python",
   "name": "python3"
  },
  "language_info": {
   "codemirror_mode": {
    "name": "ipython",
    "version": 3
   },
   "file_extension": ".py",
   "mimetype": "text/x-python",
   "name": "python",
   "nbconvert_exporter": "python",
   "pygments_lexer": "ipython3",
   "version": "3.7.6"
  }
 },
 "nbformat": 4,
 "nbformat_minor": 4
}
